{
 "cells": [
  {
   "cell_type": "markdown",
   "metadata": {},
   "source": [
    "# 4. Localisation"
   ]
  },
  {
   "cell_type": "markdown",
   "metadata": {},
   "source": [
    "Let's import the necessary libraries."
   ]
  },
  {
   "cell_type": "code",
   "execution_count": 31,
   "metadata": {},
   "outputs": [],
   "source": [
    "import numpy as np\n",
    "import matplotlib.pyplot as plt\n",
    "import matplotlib.animation as animation\n",
    "from IPython.display import HTML\n",
    "import scipy as sp\n",
    "import pandas as pd\n",
    "from sklearn.linear_model import LinearRegression\n",
    "from sklearn.svm import SVR\n",
    "from sklearn.preprocessing import StandardScaler\n",
    "from sklearn.model_selection import KFold\n",
    "from sklearn.pipeline import make_pipeline\n",
    "from sklearn.model_selection import train_test_split, GridSearchCV\n",
    "from scipy.interpolate import LinearNDInterpolator\n",
    "from scipy.optimize import minimize\n",
    "\n",
    "from pickle import dump, load\n",
    "import tensorflow as tf\n",
    "from tensorflow.keras.models import Sequential, load_model\n",
    "from tensorflow.keras.layers import Dense, Normalization"
   ]
  },
  {
   "cell_type": "markdown",
   "metadata": {},
   "source": [
    "Let's load : \n",
    "1. Model"
   ]
  },
  {
   "cell_type": "code",
   "execution_count": 32,
   "metadata": {},
   "outputs": [
    {
     "data": {
      "text/html": [
       "<pre style=\"white-space:pre;overflow-x:auto;line-height:normal;font-family:Menlo,'DejaVu Sans Mono',consolas,'Courier New',monospace\"><span style=\"font-weight: bold\">Model: \"sequential_1\"</span>\n",
       "</pre>\n"
      ],
      "text/plain": [
       "\u001b[1mModel: \"sequential_1\"\u001b[0m\n"
      ]
     },
     "metadata": {},
     "output_type": "display_data"
    },
    {
     "data": {
      "text/html": [
       "<pre style=\"white-space:pre;overflow-x:auto;line-height:normal;font-family:Menlo,'DejaVu Sans Mono',consolas,'Courier New',monospace\">┏━━━━━━━━━━━━━━━━━━━━━━━━━━━━━━━━━┳━━━━━━━━━━━━━━━━━━━━━━━━┳━━━━━━━━━━━━━━━┓\n",
       "┃<span style=\"font-weight: bold\"> Layer (type)                    </span>┃<span style=\"font-weight: bold\"> Output Shape           </span>┃<span style=\"font-weight: bold\">       Param # </span>┃\n",
       "┡━━━━━━━━━━━━━━━━━━━━━━━━━━━━━━━━━╇━━━━━━━━━━━━━━━━━━━━━━━━╇━━━━━━━━━━━━━━━┩\n",
       "│ dense_4 (<span style=\"color: #0087ff; text-decoration-color: #0087ff\">Dense</span>)                 │ (<span style=\"color: #00d7ff; text-decoration-color: #00d7ff\">None</span>, <span style=\"color: #00af00; text-decoration-color: #00af00\">256</span>)            │         <span style=\"color: #00af00; text-decoration-color: #00af00\">1,792</span> │\n",
       "├─────────────────────────────────┼────────────────────────┼───────────────┤\n",
       "│ dense_5 (<span style=\"color: #0087ff; text-decoration-color: #0087ff\">Dense</span>)                 │ (<span style=\"color: #00d7ff; text-decoration-color: #00d7ff\">None</span>, <span style=\"color: #00af00; text-decoration-color: #00af00\">128</span>)            │        <span style=\"color: #00af00; text-decoration-color: #00af00\">32,896</span> │\n",
       "├─────────────────────────────────┼────────────────────────┼───────────────┤\n",
       "│ dense_6 (<span style=\"color: #0087ff; text-decoration-color: #0087ff\">Dense</span>)                 │ (<span style=\"color: #00d7ff; text-decoration-color: #00d7ff\">None</span>, <span style=\"color: #00af00; text-decoration-color: #00af00\">64</span>)             │         <span style=\"color: #00af00; text-decoration-color: #00af00\">8,256</span> │\n",
       "├─────────────────────────────────┼────────────────────────┼───────────────┤\n",
       "│ dense_7 (<span style=\"color: #0087ff; text-decoration-color: #0087ff\">Dense</span>)                 │ (<span style=\"color: #00d7ff; text-decoration-color: #00d7ff\">None</span>, <span style=\"color: #00af00; text-decoration-color: #00af00\">1</span>)              │            <span style=\"color: #00af00; text-decoration-color: #00af00\">65</span> │\n",
       "└─────────────────────────────────┴────────────────────────┴───────────────┘\n",
       "</pre>\n"
      ],
      "text/plain": [
       "┏━━━━━━━━━━━━━━━━━━━━━━━━━━━━━━━━━┳━━━━━━━━━━━━━━━━━━━━━━━━┳━━━━━━━━━━━━━━━┓\n",
       "┃\u001b[1m \u001b[0m\u001b[1mLayer (type)                   \u001b[0m\u001b[1m \u001b[0m┃\u001b[1m \u001b[0m\u001b[1mOutput Shape          \u001b[0m\u001b[1m \u001b[0m┃\u001b[1m \u001b[0m\u001b[1m      Param #\u001b[0m\u001b[1m \u001b[0m┃\n",
       "┡━━━━━━━━━━━━━━━━━━━━━━━━━━━━━━━━━╇━━━━━━━━━━━━━━━━━━━━━━━━╇━━━━━━━━━━━━━━━┩\n",
       "│ dense_4 (\u001b[38;5;33mDense\u001b[0m)                 │ (\u001b[38;5;45mNone\u001b[0m, \u001b[38;5;34m256\u001b[0m)            │         \u001b[38;5;34m1,792\u001b[0m │\n",
       "├─────────────────────────────────┼────────────────────────┼───────────────┤\n",
       "│ dense_5 (\u001b[38;5;33mDense\u001b[0m)                 │ (\u001b[38;5;45mNone\u001b[0m, \u001b[38;5;34m128\u001b[0m)            │        \u001b[38;5;34m32,896\u001b[0m │\n",
       "├─────────────────────────────────┼────────────────────────┼───────────────┤\n",
       "│ dense_6 (\u001b[38;5;33mDense\u001b[0m)                 │ (\u001b[38;5;45mNone\u001b[0m, \u001b[38;5;34m64\u001b[0m)             │         \u001b[38;5;34m8,256\u001b[0m │\n",
       "├─────────────────────────────────┼────────────────────────┼───────────────┤\n",
       "│ dense_7 (\u001b[38;5;33mDense\u001b[0m)                 │ (\u001b[38;5;45mNone\u001b[0m, \u001b[38;5;34m1\u001b[0m)              │            \u001b[38;5;34m65\u001b[0m │\n",
       "└─────────────────────────────────┴────────────────────────┴───────────────┘\n"
      ]
     },
     "metadata": {},
     "output_type": "display_data"
    },
    {
     "data": {
      "text/html": [
       "<pre style=\"white-space:pre;overflow-x:auto;line-height:normal;font-family:Menlo,'DejaVu Sans Mono',consolas,'Courier New',monospace\"><span style=\"font-weight: bold\"> Total params: </span><span style=\"color: #00af00; text-decoration-color: #00af00\">129,029</span> (504.02 KB)\n",
       "</pre>\n"
      ],
      "text/plain": [
       "\u001b[1m Total params: \u001b[0m\u001b[38;5;34m129,029\u001b[0m (504.02 KB)\n"
      ]
     },
     "metadata": {},
     "output_type": "display_data"
    },
    {
     "data": {
      "text/html": [
       "<pre style=\"white-space:pre;overflow-x:auto;line-height:normal;font-family:Menlo,'DejaVu Sans Mono',consolas,'Courier New',monospace\"><span style=\"font-weight: bold\"> Trainable params: </span><span style=\"color: #00af00; text-decoration-color: #00af00\">43,009</span> (168.00 KB)\n",
       "</pre>\n"
      ],
      "text/plain": [
       "\u001b[1m Trainable params: \u001b[0m\u001b[38;5;34m43,009\u001b[0m (168.00 KB)\n"
      ]
     },
     "metadata": {},
     "output_type": "display_data"
    },
    {
     "data": {
      "text/html": [
       "<pre style=\"white-space:pre;overflow-x:auto;line-height:normal;font-family:Menlo,'DejaVu Sans Mono',consolas,'Courier New',monospace\"><span style=\"font-weight: bold\"> Non-trainable params: </span><span style=\"color: #00af00; text-decoration-color: #00af00\">0</span> (0.00 B)\n",
       "</pre>\n"
      ],
      "text/plain": [
       "\u001b[1m Non-trainable params: \u001b[0m\u001b[38;5;34m0\u001b[0m (0.00 B)\n"
      ]
     },
     "metadata": {},
     "output_type": "display_data"
    },
    {
     "data": {
      "text/html": [
       "<pre style=\"white-space:pre;overflow-x:auto;line-height:normal;font-family:Menlo,'DejaVu Sans Mono',consolas,'Courier New',monospace\"><span style=\"font-weight: bold\"> Optimizer params: </span><span style=\"color: #00af00; text-decoration-color: #00af00\">86,020</span> (336.02 KB)\n",
       "</pre>\n"
      ],
      "text/plain": [
       "\u001b[1m Optimizer params: \u001b[0m\u001b[38;5;34m86,020\u001b[0m (336.02 KB)\n"
      ]
     },
     "metadata": {},
     "output_type": "display_data"
    },
    {
     "name": "stdout",
     "output_type": "stream",
     "text": [
      "None\n"
     ]
    }
   ],
   "source": [
    "model = load_model(\"model.keras\")\n",
    "\n",
    "print(model.summary())"
   ]
  },
  {
   "cell_type": "markdown",
   "metadata": {},
   "source": [
    "2. The scaler"
   ]
  },
  {
   "cell_type": "code",
   "execution_count": 33,
   "metadata": {},
   "outputs": [
    {
     "name": "stdout",
     "output_type": "stream",
     "text": [
      "StandardScaler()\n"
     ]
    }
   ],
   "source": [
    "scaler = load(open(\"scaler.pkl\", \"rb\"))\n",
    "\n",
    "print(scaler)"
   ]
  },
  {
   "cell_type": "markdown",
   "metadata": {},
   "source": [
    "3. The dataset"
   ]
  },
  {
   "cell_type": "code",
   "execution_count": 34,
   "metadata": {},
   "outputs": [],
   "source": [
    "data = pd.read_csv(\"data.csv\")"
   ]
  },
  {
   "cell_type": "markdown",
   "metadata": {},
   "source": [
    "Since we figured out the a model perform the work of the following application :\n",
    "$$\n",
    "\\begin{align*}\n",
    "    f : \\mathbb{R} &\\rightarrow \\mathbb{R}\\\\\n",
    "    c &\\mapsto d\n",
    "\\end{align*}\n",
    "$$\n",
    "where : \n",
    "- $c$ is a gradient of the concentration \n",
    "- $d$ is a gradient of the distance from the source\n",
    " \n",
    "We can now apply regular localisation techniques to find the position of the gas source.\n",
    "\n",
    "\n",
    "Like cell network or GPS localisation, we can use the same principle to localise a point in a 2D space. The idea is to have a set of points with known coordinates and distances to the unknown point. By using the model, we can estimate the coordinates of the unknown point.\n",
    "\n",
    "The method used by these systems is called trilateration. The mathematics behind trilateration involves solving a system of equations derived from the distance formula in Euclidean space.\n",
    "\n",
    "## Basic concept\n",
    "Given $n$ known points (anchors) with coordinates $(x_i, y_i)$ and their respective distances $d_i$ to the unknown point $(x, y)$, the goal is to find the coordinates $(x, y)$.\n",
    "\n",
    "## Distance formula\n",
    "The distance between the unknown point $(x, y)$ and each known point $(x_i, y_i)$ is given by:\n",
    "\n",
    "$$ d_i = \\sqrt{(x - x_i)^2 + (y - y_i)^2} $$\n",
    "\n",
    "System of Equations\n",
    "For each known point, we can write an equation based on the distance formula:\n",
    "\n",
    "$$ \n",
    "\\begin{cases}\n",
    "(x - x_1)^2 + (y - y_1)^2 = d_1^2 \\\\\n",
    "(x - x_2)^2 + (y - y_2)^2 = d_2^2 \\\\\n",
    "\\vdots \\\\\n",
    "(x - x_n)^2 + (y - y_n)^2 = d_n^2\n",
    "\\end{cases}\n",
    "$$\n",
    "\n",
    "# Linearization\n",
    "\n",
    "To solve this system of nonlinear equations, we can linearize it by subtracting one equation from another. For example, subtracting the first equation from the second:\n",
    "\n",
    "$$\n",
    "(x - x_2)^2 + (y - y_2)^2 - (x - x_1)^2 - (y - y_1)^2 = d_2^2 - d_1^2\n",
    "$$\n",
    "\n",
    "Expanding and simplifying:\n",
    "\n",
    "$$\n",
    "x^2 - 2x x_2 + x_2^2 + y^2 - 2y y_2 + y_2^2 - x^2 + 2x x_1 - x_1^2 - y^2 + 2y y_1 - y_1^2 = d_2^2 - d_1^2\n",
    "$$\n",
    "\n",
    "$$\n",
    "-2x (x_2 - x_1) - 2y (y_2 - y_1) = d_2^2 - d_1^2 - x_2^2 + x_1^2 - y_2^2 + y_1^2\n",
    "$$\n",
    "\n",
    "This can be rewritten as:\n",
    "\n",
    "$$\n",
    "-2x (x_2 - x_1) - 2y (y_2 - y_1) = C_{12}\n",
    "$$\n",
    "\n",
    "where $C_{12}$ is a constant derived from the known distances and coordinates.\n",
    "\n",
    "## Matrix Form\n",
    "For $n$ points, we can form a system of linear equations:\n",
    "\n",
    "$$\n",
    "A \\begin{pmatrix} x \\\\ y \\end{pmatrix} = B\n",
    "$$\n",
    "\n",
    "where $A$ is a matrix of coefficients and $B$ is a vector of constants.\n",
    "\n",
    "## Optimization Approach\n",
    "\n",
    "When there are more than three points, the system is over-determined, and we can use optimization techniques to find the best fit solution. The error function to minimize is:\n",
    "\n",
    "$$\n",
    "\\text{Error} = \\sum_{i=1}^{n} \\left( \\sqrt{(x - x_i)^2 + (y - y_i)^2} - d_i \\right)^2\n",
    "$$\n",
    "\n",
    "This is the function used in the locate_trilateration function to find the coordinates ((x, y)) that minimize the sum of squared errors between the calculated and measured distances.\n"
   ]
  },
  {
   "cell_type": "code",
   "execution_count": 35,
   "metadata": {},
   "outputs": [],
   "source": [
    "def locate_trilateration(positions, distances):\n",
    "    \"\"\"\n",
    "    Trilateration algorithm to locate a point in 2D space given the positions of the anchors and the distances to them.\n",
    "    \"\"\"\n",
    "\n",
    "    # Check if the input is valid\n",
    "    if positions.shape[0] < 3 or distances.shape[0] < 3:\n",
    "        raise ValueError(\"Trilateration requires at least 3 anchors.\")\n",
    " \n",
    "    if positions.shape[0] != distances.shape[0]:\n",
    "        raise ValueError(\"The number of positions and distances must be the same.\")\n",
    "\n",
    "    def error_function(point, positions, distances):\n",
    "        # Calculate the distances between the point and the anchors\n",
    "        calculated_distances = np.linalg.norm(positions - point, axis=1)\n",
    "    \n",
    "        # Calculate the error between the calculated distances and the real distances\n",
    "        errors = (calculated_distances - distances) ** 2\n",
    "\n",
    "        # Return the sum of the errors\n",
    "        return np.sum(errors) \n",
    "\n",
    "    initial_guess = np.mean(positions, axis=0)\n",
    "\n",
    "    result = minimize(error_function, initial_guess, args=(positions, distances))\n",
    "\n",
    "    return result.x"
   ]
  },
  {
   "cell_type": "markdown",
   "metadata": {},
   "source": [
    "Select points spaced evenly in the area from the dataset that have the same diffusion coefficient, source position."
   ]
  }
 ],
 "metadata": {
  "kernelspec": {
   "display_name": ".python_environment",
   "language": "python",
   "name": "python3"
  },
  "language_info": {
   "codemirror_mode": {
    "name": "ipython",
    "version": 3
   },
   "file_extension": ".py",
   "mimetype": "text/x-python",
   "name": "python",
   "nbconvert_exporter": "python",
   "pygments_lexer": "ipython3",
   "version": "3.11.2"
  }
 },
 "nbformat": 4,
 "nbformat_minor": 2
}
